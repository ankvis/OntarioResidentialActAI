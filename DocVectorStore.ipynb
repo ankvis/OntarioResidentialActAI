{
 "cells": [
  {
   "cell_type": "code",
   "execution_count": 1,
   "metadata": {},
   "outputs": [
    {
     "data": {
      "text/plain": [
       "True"
      ]
     },
     "execution_count": 1,
     "metadata": {},
     "output_type": "execute_result"
    }
   ],
   "source": [
    "import os\n",
    "from dotenv import load_dotenv, find_dotenv\n",
    "load_dotenv(find_dotenv(),override=True)"
   ]
  },
  {
   "cell_type": "code",
   "execution_count": 2,
   "metadata": {},
   "outputs": [],
   "source": [
    "#load document\n",
    "def doc_loader(file):\n",
    "    from langchain.document_loaders import PyPDFLoader\n",
    "    print(f'loading File..')\n",
    "    loader = PyPDFLoader(file)\n",
    "    data = loader.load()\n",
    "    print(f'Loading comeplete!')\n",
    "    return data"
   ]
  },
  {
   "cell_type": "code",
   "execution_count": 3,
   "metadata": {},
   "outputs": [
    {
     "name": "stdout",
     "output_type": "stream",
     "text": [
      "loading File..\n",
      "Loading comeplete!\n"
     ]
    }
   ],
   "source": [
    "#load residential act\n",
    "resi_act = doc_loader('Rental_act.pdf')"
   ]
  },
  {
   "cell_type": "code",
   "execution_count": 4,
   "metadata": {},
   "outputs": [
    {
     "name": "stdout",
     "output_type": "stream",
     "text": [
      "1 Français  \n",
      "Residential Tenancies Act, 2006  \n",
      "S.O. 2006 , CHAPTER 17 \n",
      "Consolidation Period:  From June 8, 2023  to the e-Laws currenc y date. \n",
      "Last amendment:  2023, c. 10, Sched. 7 . \n",
      "Legislative History: 2006, c. 17, s. 261 ; 2006, c. 32, Sched. C, s. 56 ; 2006, c. 32, Sched. E, s. 7 ; 2006, c. 35, Sched. C, s. 118 ; 2007, c. 8, s. \n",
      "226; 2007,  c. 13, s. 48 ; 2008, c. 14, s. 58 ; 2009, c. 33, Sched. 8, s. 15 ; 2009, c. 33, Sched. 18,  s. 30; 2009, c. 33, Sched.  21, s. 11 ; 2010, c. 8, \n",
      "s. 39 ; 2011, c. 6, Sched. 1, s. 188 ; 2011, c. 6, Sched. 3 ; 2012, c. 6 ; 2013, c.  3, s. 20 -56; 2015, c. 38, Sched. 7, s. 60 ; 2016, c. 2, Sched. 6 ; \n",
      "2016, c. 23, s. 66 ; 2016, c. 25, Sched. 5 ; 2017, c. 13 ; 2017, c. 14, Sched. 4, s. 33 ; 2017, c. 25, Sched. 9, s. 116  (see 2023, c. 4, Sched. 1, s. \n",
      "67); 2017, c. 34, Sched. 46, s. 50 ; 2018, c. 6, Sched. 3,  s. 12 ; 2018, c. 17, Sched. 36 ; 2019, c. 7, Sched. 17 , s. 153 ; 2020, c. 1, s. 36 ; 2020, c. \n",
      "16, Sched. 3, s. 12 ; 2020, c. 16, Sched. 4 ; 2020, c. 23, Sched. 7 ; 2021, c. 4, Sched. 11, s. 31 ; 2021, c. 39, Sched. 2, s. 24 ; 2023, c. 10, Sched. \n",
      "7. \n",
      "CONTENTS  \n",
      "PART I  \n",
      "INTRODUCTION  \n",
      "1. Purposes of Act  \n",
      "2. Interpretation  \n",
      "3. Application of Act  \n",
      "4. Provisions conflicting with Act voi d \n",
      "5. Exemptions from Ac t \n",
      "5.1 Other exemption from Act  \n",
      "5.2 Other exemption from Act, site for land lease home  \n",
      "6. Other exemptions  \n",
      "6.1 Exemptions from rules relating to rent  \n",
      "7. Exemptions related to social, etc., housing  \n",
      "8. Rent geared -to-income  \n",
      "9. Application to determine issues  \n",
      "PART II  \n",
      "TENANCY AGREEMENTS  \n",
      "10. Selecting prospective tenants  \n",
      "11. Information to be p rovided by landlord  \n",
      "12. Tenancy agreement  \n",
      "12.1 Tenancy agreement in respect of tenancy of a prescribed  class  \n",
      "13. Commenceme nt of tenancy  \n",
      "14. “No pet” provisions void  \n",
      "15. Acceleration clause void  \n",
      "16. Minimize losses  \n",
      "17. Covenants interdependent  \n",
      "18. Covenants running with land  \n",
      "19. Frustrated contracts  \n",
      "PART III  \n",
      "RESPONSIBILITIES OF LANDLORDS  \n",
      "20. Landlord’s responsibility to repair  \n",
      "21. Landlord’s responsibility re services  \n",
      "22. Landlord not to interfere wi th reasonable enjoymen t \n",
      "23. Landlord not to harass, etc.  \n",
      "24. Changing locks  \n",
      "25. Privacy  \n",
      "26. Entry without notice  \n",
      "27. Entry with notice  \n",
      "28. Entry by canvassers  \n",
      "29. Tenant applications  \n",
      "30. Order, repair, comply with standards  \n",
      "31. Other orders re s. 29  \n",
      "32. Eviction with termination order  \n",
      "PAR T IV \n"
     ]
    }
   ],
   "source": [
    "print(resi_act[0].page_content)"
   ]
  },
  {
   "cell_type": "code",
   "execution_count": 5,
   "metadata": {},
   "outputs": [
    {
     "name": "stdout",
     "output_type": "stream",
     "text": [
      "Number of pages: 130\n"
     ]
    }
   ],
   "source": [
    "print('Number of pages: ', end='')\n",
    "print(len(resi_act))"
   ]
  },
  {
   "cell_type": "code",
   "execution_count": 6,
   "metadata": {},
   "outputs": [],
   "source": [
    "def split_chunks(data):\n",
    "    from langchain.text_splitter import RecursiveCharacterTextSplitter\n",
    "\n",
    "    text_split = RecursiveCharacterTextSplitter(chunk_size = 512, chunk_overlap = 0)\n",
    "    chunks = text_split.split_documents(data)\n",
    "\n",
    "    return chunks"
   ]
  },
  {
   "cell_type": "code",
   "execution_count": 7,
   "metadata": {},
   "outputs": [],
   "source": [
    "chunks = split_chunks(resi_act)"
   ]
  },
  {
   "cell_type": "code",
   "execution_count": 8,
   "metadata": {},
   "outputs": [
    {
     "name": "stdout",
     "output_type": "stream",
     "text": [
      "1128\n"
     ]
    }
   ],
   "source": [
    "print(len(chunks))"
   ]
  },
  {
   "cell_type": "code",
   "execution_count": 9,
   "metadata": {},
   "outputs": [],
   "source": [
    "#Cost of the embedding function\n",
    "def print_embedding_cost(texts):\n",
    "    import tiktoken\n",
    "    enc = tiktoken.encoding_for_model('text-embedding-ada-002')\n",
    "    #total_tokens = sum([len(enc.encode(page.page_content))for page in texts])\n",
    "    total_tokens = 0\n",
    "    for page in texts:\n",
    "        total_tokens += len(enc.encode(page.page_content))\n",
    "\n",
    "        \n",
    "    print(f'Total Tokens: {total_tokens}')\n",
    "    print(f'Embedding Cost in USD: {total_tokens /1000 * 0.0004:.6f}')"
   ]
  },
  {
   "cell_type": "code",
   "execution_count": 10,
   "metadata": {},
   "outputs": [
    {
     "name": "stdout",
     "output_type": "stream",
     "text": [
      "Total Tokens: 152832\n",
      "Embedding Cost in USD: 0.061133\n"
     ]
    }
   ],
   "source": [
    "#total cost\n",
    "print_embedding_cost(chunks)"
   ]
  },
  {
   "cell_type": "code",
   "execution_count": 11,
   "metadata": {},
   "outputs": [
    {
     "name": "stderr",
     "output_type": "stream",
     "text": [
      "c:\\Users\\ankvi\\anaconda3\\Lib\\site-packages\\pinecone\\index.py:4: TqdmExperimentalWarning: Using `tqdm.autonotebook.tqdm` in notebook mode. Use `tqdm.tqdm` instead to force console mode (e.g. in jupyter console)\n",
      "  from tqdm.autonotebook import tqdm\n"
     ]
    }
   ],
   "source": [
    "#importing pinecone api keys\n",
    "import pinecone\n",
    "pinecone.init(api_key=os.getenv('PINECONE_APY_KEY'), environment=os.getenv('PINECONE_ENV'))"
   ]
  },
  {
   "cell_type": "code",
   "execution_count": 12,
   "metadata": {},
   "outputs": [],
   "source": [
    "def delete_pinecone_index(index_name='all'):\n",
    "    \n",
    "    import pinecone\n",
    "    pinecone.init(api_key=os.getenv('PINECONE_API_KEY'), \n",
    "                  environment=os.getenv('PINECONE_ENV'))\n",
    "\n",
    "    if index_name == 'all':\n",
    "        indexes = pinecone.list_indexes()\n",
    "        print('Deleting all indexes...')\n",
    "        for index in indexes:\n",
    "            pinecone.delete_index(index)\n",
    "        print('Done')\n",
    "    else:\n",
    "        print(f'Deleting {index_name}..', end='')\n",
    "        pinecone.delete_index(index_name)\n",
    "        print('{index_name} deleted')"
   ]
  },
  {
   "cell_type": "code",
   "execution_count": 13,
   "metadata": {},
   "outputs": [
    {
     "name": "stdout",
     "output_type": "stream",
     "text": [
      "Deleting all indexes...\n",
      "Done\n"
     ]
    }
   ],
   "source": [
    "delete_pinecone_index()"
   ]
  },
  {
   "cell_type": "code",
   "execution_count": 14,
   "metadata": {},
   "outputs": [
    {
     "data": {
      "text/plain": [
       "[]"
      ]
     },
     "execution_count": 14,
     "metadata": {},
     "output_type": "execute_result"
    }
   ],
   "source": [
    "pinecone.list_indexes()"
   ]
  },
  {
   "cell_type": "code",
   "execution_count": 15,
   "metadata": {},
   "outputs": [],
   "source": [
    "pinecone.create_index('residentact', dimension = 1536, metric='cosine')"
   ]
  },
  {
   "cell_type": "code",
   "execution_count": 16,
   "metadata": {},
   "outputs": [
    {
     "data": {
      "text/plain": [
       "'residentact'"
      ]
     },
     "execution_count": 16,
     "metadata": {},
     "output_type": "execute_result"
    }
   ],
   "source": [
    "pinecone.list_indexes()[0]"
   ]
  },
  {
   "cell_type": "code",
   "execution_count": 17,
   "metadata": {},
   "outputs": [],
   "source": [
    "#convert chunks to embeddings and store it in pinecone database(vector database)\n",
    "\n",
    "from langchain.vectorstores import Pinecone\n",
    "from langchain.embeddings.openai import OpenAIEmbeddings\n",
    "\n",
    "def insert_fetch_embeddings():\n",
    "    embeddings = OpenAIEmbeddings()\n",
    "    vector_store = Pinecone.from_documents(chunks, embedding=embeddings, index_name=pinecone.list_indexes()[0])\n",
    "\n",
    "    return vector_store\n"
   ]
  },
  {
   "cell_type": "code",
   "execution_count": 18,
   "metadata": {},
   "outputs": [],
   "source": [
    "vector_store = insert_fetch_embeddings()"
   ]
  },
  {
   "cell_type": "code",
   "execution_count": 22,
   "metadata": {},
   "outputs": [],
   "source": [
    "#code to retrive the vector embeddings from the pinecone database\n",
    "\n",
    "from langchain.embeddings.openai import OpenAIEmbeddings\n",
    "from langchain.vectorstores import Pinecone\n",
    "import pinecone\n",
    "pinecone.init(api_key=os.getenv('PINECONE_APY_KEY'), environment=os.getenv('PINECONE_ENV'))\n",
    "import os\n",
    "from dotenv import load_dotenv, find_dotenv\n",
    "load_dotenv(find_dotenv(),override=True)\n",
    "\n",
    "index_name = pinecone.list_indexes()[0]\n",
    "embeddings = OpenAIEmbeddings()\n",
    "\n",
    "vectorstore = Pinecone.from_existing_index(index_name,embeddings)"
   ]
  },
  {
   "cell_type": "code",
   "execution_count": 23,
   "metadata": {},
   "outputs": [
    {
     "data": {
      "text/plain": [
       "IndexDescription(name='residentact', metric='cosine', replicas=1, dimension=1536.0, shards=1, pods=1, pod_type='starter', status={'ready': True, 'state': 'Ready'}, metadata_config=None, source_collection='')"
      ]
     },
     "execution_count": 23,
     "metadata": {},
     "output_type": "execute_result"
    }
   ],
   "source": [
    "pinecone.describe_index('residentact')"
   ]
  },
  {
   "cell_type": "code",
   "execution_count": 28,
   "metadata": {},
   "outputs": [],
   "source": [
    "def get_existing_vector():\n",
    "    index_name = pinecone.list_indexes()[0]\n",
    "    embeddings = OpenAIEmbeddings()\n",
    "    vectorstore = Pinecone.from_existing_index(index_name,embeddings)\n",
    "\n",
    "    return vectorstore"
   ]
  },
  {
   "cell_type": "code",
   "execution_count": 24,
   "metadata": {},
   "outputs": [],
   "source": [
    "from langchain.chains import RetrievalQA\n",
    "from langchain.chat_models import ChatOpenAI\n",
    "\n",
    "\n",
    "def ques_answer(vector_store, query):\n",
    "    llm = ChatOpenAI(model='gpt-3.5-turbo', temperature=1)\n",
    "    retriever = vector_store.as_retriever(search='similarity', search_kwargs = {'k' : 5})\n",
    "    chain = RetrievalQA.from_chain_type(llm=llm, chain_type='stuff', retriever=retriever)\n",
    "    answer = chain.run(query)\n",
    "\n",
    "    return answer"
   ]
  },
  {
   "cell_type": "code",
   "execution_count": 29,
   "metadata": {},
   "outputs": [
    {
     "name": "stdout",
     "output_type": "stream",
     "text": [
      "According to the information provided, a provision in the tenancy agreement prohibiting the presence of animals in the residential complex is void. However, the landlord may apply to the Board for an order terminating the tenancy and evicting the tenant if certain conditions are met. These conditions include if the past behavior of the animal substantially interferes with the reasonable enjoyment of the residential complex or if the presence of the animal causes the landlord or another tenant to suffer a serious allergic reaction. \n",
      "\n",
      "To prevent eviction if your landlord finds out about your dog, you would need to ensure that your dog's behavior does not substantially interfere with the reasonable enjoyment of the residential complex and does not cause any serious allergic reactions. If you can demonstrate that your dog is not causing these issues, the Board should not make an order terminating the tenancy based on these grounds. However, it is recommended to speak with a legal professional for advice specific to your situation.\n"
     ]
    }
   ],
   "source": [
    "question ='Why was the residential act created?'\n",
    "question1 = 'I have dog at my rental place but my lease agreement specifies no pets allowed, How do I prevent eviction if my landlord finds about my dog?'\n",
    "print(ques_answer(get_existing_vector(),question1))"
   ]
  },
  {
   "cell_type": "code",
   "execution_count": null,
   "metadata": {},
   "outputs": [],
   "source": []
  }
 ],
 "metadata": {
  "kernelspec": {
   "display_name": "base",
   "language": "python",
   "name": "python3"
  },
  "language_info": {
   "codemirror_mode": {
    "name": "ipython",
    "version": 3
   },
   "file_extension": ".py",
   "mimetype": "text/x-python",
   "name": "python",
   "nbconvert_exporter": "python",
   "pygments_lexer": "ipython3",
   "version": "3.11.3"
  },
  "orig_nbformat": 4
 },
 "nbformat": 4,
 "nbformat_minor": 2
}
